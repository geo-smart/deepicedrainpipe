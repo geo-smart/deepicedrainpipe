{
 "cells": [
  {
   "attachments": {},
   "cell_type": "markdown",
   "metadata": {
    "tags": []
   },
   "source": [
    "# About the GeoSMART Use Case Library\n",
    "\n",
    "This book was created for the **GeoS**cience **MA**chine Learning **R**esources and **T**raining (GeoSMART) framework.\n",
    "GeoSMART is an educational pathway that provides a foundation in open-source scientific ecosystems and progresses through general ML theory, toolkits and deployment on Cloud computing.\n",
    "Books in the library can be identified by the badge:\n",
    "\n",
    "[![GeoSMART Use Case](../img/use_case_badge.svg)](https://geo-smart.github.io/usecases)\n",
    "\n",
    "More information on contributing your own use case can be found in the [GeoSMART Jupyter Book Use Case template](https://geo-smart.github.io/use_case_template/intro.html)"
   ]
  }
 ],
 "metadata": {
  "kernelspec": {
   "display_name": "Python 3",
   "language": "python",
   "name": "python3"
  },
  "language_info": {
   "codemirror_mode": {
    "name": "ipython",
    "version": 3
   },
   "file_extension": ".py",
   "mimetype": "text/x-python",
   "name": "python",
   "nbconvert_exporter": "python",
   "pygments_lexer": "ipython3",
   "version": "3.7.3 (default, Apr 24 2020, 18:51:23) \n[Clang 11.0.3 (clang-1103.0.32.62)]"
  },
  "vscode": {
   "interpreter": {
    "hash": "31f2aee4e71d21fbe5cf8b01ff0e069b9275f58929596ceb00d14d90e3e16cd6"
   }
  }
 },
 "nbformat": 4,
 "nbformat_minor": 4
}
