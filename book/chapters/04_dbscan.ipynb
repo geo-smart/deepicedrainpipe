{
 "cells": [
  {
   "cell_type": "markdown",
   "metadata": {
    "lines_to_next_cell": 2
   },
   "source": [
    "# ICESat-2 Active Subglacial Lakes in Antarctica\n",
    "\n",
    "Finding subglacial lakes that are draining or filling under the ice!\n",
    "They can be detected with ICESat-2 data, as significant changes in height\n",
    "(> 1 metre) over a relatively short duration (< 1 year), i.e. a high rate of\n",
    "elevation change over time (dhdt).\n",
    "\n",
    "In this notebook, we'll use some neat tools to help us examine the lakes:\n",
    "- To find active subglacial lake boundaries,\n",
    "use an *unsupervised clustering* technique\n",
    "- To see ice surface elevation trends at a higher temporal resolution (< 3 months),\n",
    "perform *crossover track error analysis* on intersecting ICESat-2 tracks\n",
    "\n",
    "To speed up analysis on millions of points,\n",
    "we will use state of the art GPU algorithms enabled by RAPIDS AI libraries,\n",
    "or parallelize the processing across our HPC's many CPU cores using Dask.\n",
    "\n",
    "Note: This notebook was adapted from\n",
    "https://github.com/weiji14/deepicedrain/blob/v0.4.2/atlxi_dhdt.ipynb"
   ]
  },
  {
   "cell_type": "code",
   "execution_count": 25,
   "metadata": {
    "lines_to_next_cell": 2
   },
   "outputs": [],
   "source": [
    "import os\n",
    "\n",
    "# import cudf\n",
    "# import cuml\n",
    "import geopandas as gpd\n",
    "import numpy as np\n",
    "import pandas as pd\n",
    "# import pygmt\n",
    "import scipy.spatial\n",
    "import shapely.geometry\n",
    "import tqdm\n",
    "\n",
    "# import deepicedrain"
   ]
  },
  {
   "cell_type": "markdown",
   "metadata": {},
   "source": [
    "## Load in ICESat-2 data (x, y, dhdt) and do initial trimming"
   ]
  },
  {
   "cell_type": "code",
   "execution_count": 5,
   "metadata": {},
   "outputs": [
    {
     "name": "stdout",
     "output_type": "stream",
     "text": [
      "Trimmed 4400800 -> 2781831\n"
     ]
    }
   ],
   "source": [
    "# Read in raw x, y, dhdt_slope and referencegroundtrack data into the GPU\n",
    "cudf_raw: pd.DataFrame = pd.read_parquet(\n",
    "    path=\"https://github.com/weiji14/deepicedrain/releases/download/v0.4.2/df_dhdt_whillans_upstream.parquet\",\n",
    "    columns=[\"x\", \"y\", \"dhdt_slope\", \"referencegroundtrack\"],\n",
    "    # filters=[[('dhdt_slope', '<', -0.105)], [('dhdt_slope', '>', 0.105)]],\n",
    ")\n",
    "# Filter to points with dhdt that is less than -0.105 m/yr or more than +0.105 m/yr\n",
    "# Based on ICESat-2 ATL06's accuracy and precision of 3.3 ± 7.2cm from Brunt et al 2020\n",
    "# See https://doi.org/10.1029/2020GL090572\n",
    "cudf_many = cudf_raw.loc[abs(cudf_raw.dhdt_slope) > 0.105]\n",
    "print(f\"Trimmed {len(cudf_raw)} -> {len(cudf_many)}\")\n",
    "if \"cudf_raw\" in globals():\n",
    "    del cudf_raw"
   ]
  },
  {
   "cell_type": "code",
   "execution_count": 6,
   "metadata": {},
   "outputs": [
    {
     "data": {
      "text/html": [
       "<div>\n",
       "<style scoped>\n",
       "    .dataframe tbody tr th:only-of-type {\n",
       "        vertical-align: middle;\n",
       "    }\n",
       "\n",
       "    .dataframe tbody tr th {\n",
       "        vertical-align: top;\n",
       "    }\n",
       "\n",
       "    .dataframe thead th {\n",
       "        text-align: right;\n",
       "    }\n",
       "</style>\n",
       "<table border=\"1\" class=\"dataframe\">\n",
       "  <thead>\n",
       "    <tr style=\"text-align: right;\">\n",
       "      <th></th>\n",
       "      <th>x</th>\n",
       "      <th>y</th>\n",
       "      <th>dhdt_slope</th>\n",
       "      <th>referencegroundtrack</th>\n",
       "    </tr>\n",
       "  </thead>\n",
       "  <tbody>\n",
       "    <tr>\n",
       "      <th>0</th>\n",
       "      <td>-674266.855575</td>\n",
       "      <td>-400035.558755</td>\n",
       "      <td>0.361657</td>\n",
       "      <td>6</td>\n",
       "    </tr>\n",
       "    <tr>\n",
       "      <th>1</th>\n",
       "      <td>-674306.626769</td>\n",
       "      <td>-400078.173573</td>\n",
       "      <td>0.331515</td>\n",
       "      <td>6</td>\n",
       "    </tr>\n",
       "    <tr>\n",
       "      <th>2</th>\n",
       "      <td>-674346.406781</td>\n",
       "      <td>-400120.780361</td>\n",
       "      <td>0.359910</td>\n",
       "      <td>6</td>\n",
       "    </tr>\n",
       "    <tr>\n",
       "      <th>3</th>\n",
       "      <td>-674386.187284</td>\n",
       "      <td>-400163.386740</td>\n",
       "      <td>0.402465</td>\n",
       "      <td>6</td>\n",
       "    </tr>\n",
       "    <tr>\n",
       "      <th>4</th>\n",
       "      <td>-674425.611742</td>\n",
       "      <td>-400206.325432</td>\n",
       "      <td>0.300734</td>\n",
       "      <td>6</td>\n",
       "    </tr>\n",
       "    <tr>\n",
       "      <th>...</th>\n",
       "      <td>...</td>\n",
       "      <td>...</td>\n",
       "      <td>...</td>\n",
       "      <td>...</td>\n",
       "    </tr>\n",
       "    <tr>\n",
       "      <th>4476225</th>\n",
       "      <td>-400216.802567</td>\n",
       "      <td>-569525.939382</td>\n",
       "      <td>0.284563</td>\n",
       "      <td>1385</td>\n",
       "    </tr>\n",
       "    <tr>\n",
       "      <th>4476226</th>\n",
       "      <td>-400169.718641</td>\n",
       "      <td>-569491.642818</td>\n",
       "      <td>0.316296</td>\n",
       "      <td>1385</td>\n",
       "    </tr>\n",
       "    <tr>\n",
       "      <th>4476227</th>\n",
       "      <td>-400122.633688</td>\n",
       "      <td>-569457.347729</td>\n",
       "      <td>0.334779</td>\n",
       "      <td>1385</td>\n",
       "    </tr>\n",
       "    <tr>\n",
       "      <th>4476228</th>\n",
       "      <td>-400075.549059</td>\n",
       "      <td>-569423.052244</td>\n",
       "      <td>0.280224</td>\n",
       "      <td>1385</td>\n",
       "    </tr>\n",
       "    <tr>\n",
       "      <th>4476229</th>\n",
       "      <td>-400028.465681</td>\n",
       "      <td>-569388.755047</td>\n",
       "      <td>0.138302</td>\n",
       "      <td>1385</td>\n",
       "    </tr>\n",
       "  </tbody>\n",
       "</table>\n",
       "<p>2781831 rows × 4 columns</p>\n",
       "</div>"
      ],
      "text/plain": [
       "                     x              y  dhdt_slope  referencegroundtrack\n",
       "0       -674266.855575 -400035.558755    0.361657                     6\n",
       "1       -674306.626769 -400078.173573    0.331515                     6\n",
       "2       -674346.406781 -400120.780361    0.359910                     6\n",
       "3       -674386.187284 -400163.386740    0.402465                     6\n",
       "4       -674425.611742 -400206.325432    0.300734                     6\n",
       "...                ...            ...         ...                   ...\n",
       "4476225 -400216.802567 -569525.939382    0.284563                  1385\n",
       "4476226 -400169.718641 -569491.642818    0.316296                  1385\n",
       "4476227 -400122.633688 -569457.347729    0.334779                  1385\n",
       "4476228 -400075.549059 -569423.052244    0.280224                  1385\n",
       "4476229 -400028.465681 -569388.755047    0.138302                  1385\n",
       "\n",
       "[2781831 rows x 4 columns]"
      ]
     },
     "execution_count": 6,
     "metadata": {},
     "output_type": "execute_result"
    }
   ],
   "source": [
    "# Clip outlier values to 3 sigma (standard deviations) from mean\n",
    "_mean = cudf_many.dhdt_slope.mean()\n",
    "_std = cudf_many.dhdt_slope.std()\n",
    "cudf_many.dhdt_slope.clip(\n",
    "    lower=np.float32(_mean - 3 * _std), upper=np.float32(_mean + 3 * _std)\n",
    ")\n",
    "X_many = cudf_many\n",
    "X_many"
   ]
  },
  {
   "cell_type": "markdown",
   "metadata": {
    "lines_to_next_cell": 2
   },
   "source": [
    "## Find Active Subglacial Lake clusters\n",
    "\n",
    "Uses Density-based spatial clustering of applications with noise (DBSCAN)."
   ]
  },
  {
   "cell_type": "code",
   "execution_count": 10,
   "metadata": {},
   "outputs": [],
   "source": [
    "def find_clusters(\n",
    "    X: pd.DataFrame,\n",
    "    eps: float = 3000,\n",
    "    min_samples: int = 250,\n",
    "    output_colname: str = \"cluster_id\",\n",
    "    **kwargs,\n",
    ") -> pd.Series:\n",
    "    \"\"\"\n",
    "    Classify a point cloud into several groups, with each group being assigned\n",
    "    a positive integer label like 1, 2, 3, etc. Unclassified noise points are\n",
    "    labelled as NaN.\n",
    "    Uses Density-based spatial clustering of applications with noise (DBSCAN).\n",
    "    See also https://www.naftaliharris.com/blog/visualizing-dbscan-clustering\n",
    "    ***       **         111       NN\n",
    "    **    **   *         11    22   N\n",
    "    *     ****     -->   1     2222\n",
    "      **     **            33     22\n",
    "    ******               333333\n",
    "    Parameters\n",
    "    ----------\n",
    "    X : cudf.DataFrame or pandas.DataFrame\n",
    "        A table of X, Y, Z points to run the clustering algorithm on.\n",
    "    eps : float\n",
    "        The maximum distance between 2 points such they reside in the same\n",
    "        neighborhood. Default is 3000 (metres).\n",
    "    min_samples : int\n",
    "        The number of samples in a neighborhood such that this group can be\n",
    "        considered as an important core point (including the point itself).\n",
    "        Default is 250 (sample points).\n",
    "    output_colname : str\n",
    "        The name of the column for the output Series. Default is 'cluster_id'.\n",
    "    kwargs : dict\n",
    "        Extra parameters to pass into the `cuml.cluster.DBSCAN` or\n",
    "        `sklearn.cluster.DBSCAN` function.\n",
    "    Returns\n",
    "    -------\n",
    "    cluster_labels : cudf.Series or pd.Series\n",
    "        Which cluster each datapoint belongs to. Noisy samples are labeled as\n",
    "        NaN.\n",
    "    \"\"\"\n",
    "    try:\n",
    "        from cuml.cluster import DBSCAN\n",
    "    except ImportError:\n",
    "        from sklearn.cluster import DBSCAN\n",
    "\n",
    "    # Run DBSCAN using {eps} m distance, and minimum of {min_samples} points\n",
    "    dbscan = DBSCAN(eps=eps, min_samples=min_samples, **kwargs)\n",
    "    dbscan.fit(X=X)\n",
    "\n",
    "    cluster_labels = dbscan.labels_ + 1  # noise points -1 becomes 0\n",
    "    if isinstance(cluster_labels, np.ndarray):\n",
    "        cluster_labels = pd.Series(data=cluster_labels, dtype=pd.Int32Dtype())\n",
    "    cluster_labels = cluster_labels.mask(cond=cluster_labels == 0)  # turn 0 to NaN\n",
    "    cluster_labels.index = X.index  # let labels have same index as input data\n",
    "    cluster_labels.name = output_colname\n",
    "\n",
    "    return cluster_labels"
   ]
  },
  {
   "cell_type": "markdown",
   "metadata": {},
   "source": [
    "### Subglacial Lake Finder algorithm\n",
    "\n",
    "For each Antarctic drainage basin:\n",
    "\n",
    "1. Select all points with significant elevation change over time (dhdt)\n",
    "  - Specifically, the (absolute) dhdt value should be\n",
    "    2x the median (absolute) dhdt for that drainage basin\n",
    "  - E.g. if median dhdt for basin is 0.35 m/yr,\n",
    "    we choose points that have dhdt > 0.70 m/yr\n",
    "2. Run unsupervised clustering to pick out active subglacial lakes\n",
    "  - Split into draining (-dhdt) and filling (+dhdt) points first\n",
    "  - Use DBSCAN algorithm to cluster points into groups,\n",
    "    with an eps (distance) of 3 km and minimum sample size of 250 points\n",
    "3. Check each potential point cluster to see if it meets active lake criteria\n",
    "  1. Build a convex hull 'lake' polygon around clustered points\n",
    "  2. Check that the 'lake' has significant elevation change relative to outside\n",
    "    - For the area in the 5 km buffer region **outside** the 'lake' polygon:\n",
    "       - Find median dhdt (outer_dhdt)\n",
    "       - Find median absolute deviation of dhdt values (outer_mad)\n",
    "    - For the area **inside** the 'lake' polygon:\n",
    "       - Find median dhdt (inner_dhdt)\n",
    "    - If the potential lake shows an elevation change that is more than\n",
    "      3x the surrounding deviation of background elevation change,\n",
    "      we infer that this is likely an active subglacial 'lake'"
   ]
  },
  {
   "cell_type": "code",
   "execution_count": 8,
   "metadata": {
    "lines_to_next_cell": 2
   },
   "outputs": [
    {
     "name": "stderr",
     "output_type": "stream",
     "text": [
      "  1%|          | 2/198 [00:01<02:57,  1.10it/s]"
     ]
    },
    {
     "name": "stdout",
     "output_type": "stream",
     "text": [
      "102075 rows at Academy above ± 0.44 m/yr\n",
      "2 draining and 9 filling lakes found\n"
     ]
    },
    {
     "name": "stderr",
     "output_type": "stream",
     "text": [
      "  6%|▌         | 12/198 [00:02<00:25,  7.38it/s]"
     ]
    },
    {
     "name": "stdout",
     "output_type": "stream",
     "text": [
      "37918 rows at Jutulstraumen above ± 0.58 m/yr\n",
      "0 draining and 1 filling lakes found\n"
     ]
    },
    {
     "name": "stderr",
     "output_type": "stream",
     "text": [
      " 27%|██▋       | 54/198 [00:07<00:17,  8.03it/s]"
     ]
    },
    {
     "name": "stdout",
     "output_type": "stream",
     "text": [
      "70286 rows at Cook above ± 0.51 m/yr\n",
      "0 draining and 1 filling lakes found\n"
     ]
    },
    {
     "name": "stderr",
     "output_type": "stream",
     "text": [
      " 28%|██▊       | 56/198 [00:08<00:18,  7.64it/s]"
     ]
    },
    {
     "name": "stdout",
     "output_type": "stream",
     "text": [
      "39403 rows at David above ± 0.50 m/yr\n",
      "1 draining and 1 filling lakes found\n"
     ]
    },
    {
     "name": "stderr",
     "output_type": "stream",
     "text": [
      " 30%|███       | 60/198 [00:09<00:31,  4.37it/s]"
     ]
    },
    {
     "name": "stdout",
     "output_type": "stream",
     "text": [
      "90734 rows at Mercer above ± 0.55 m/yr\n",
      "5 draining and 15 filling lakes found\n"
     ]
    },
    {
     "name": "stderr",
     "output_type": "stream",
     "text": [
      " 31%|███▏      | 62/198 [00:09<00:24,  5.58it/s]"
     ]
    },
    {
     "name": "stdout",
     "output_type": "stream",
     "text": [
      "288050 rows at Pine_Island above ± 0.97 m/yr\n",
      "2 draining and 1 filling lakes found\n"
     ]
    },
    {
     "name": "stderr",
     "output_type": "stream",
     "text": [
      " 33%|███▎      | 66/198 [00:19<02:36,  1.19s/it]"
     ]
    },
    {
     "name": "stdout",
     "output_type": "stream",
     "text": [
      "160978 rows at Thwaites above ± 0.78 m/yr\n",
      "4 draining and 3 filling lakes found\n"
     ]
    },
    {
     "name": "stderr",
     "output_type": "stream",
     "text": [
      " 35%|███▌      | 70/198 [00:20<01:19,  1.62it/s]"
     ]
    },
    {
     "name": "stdout",
     "output_type": "stream",
     "text": [
      "126226 rows at Whillans above ± 0.64 m/yr\n",
      "6 draining and 13 filling lakes found\n"
     ]
    },
    {
     "name": "stderr",
     "output_type": "stream",
     "text": [
      " 36%|███▋      | 72/198 [00:23<01:50,  1.14it/s]"
     ]
    },
    {
     "name": "stdout",
     "output_type": "stream",
     "text": [
      "63649 rows at Kamb above ± 0.54 m/yr\n",
      "2 draining and 12 filling lakes found\n",
      "6238 rows at Leverett above ± 0.61 m/yr\n",
      "1 draining and 0 filling lakes found\n"
     ]
    },
    {
     "name": "stderr",
     "output_type": "stream",
     "text": [
      " 37%|███▋      | 74/198 [00:24<01:36,  1.28it/s]"
     ]
    },
    {
     "name": "stdout",
     "output_type": "stream",
     "text": [
      "86214 rows at Scott above ± 0.51 m/yr\n",
      "5 draining and 8 filling lakes found\n"
     ]
    },
    {
     "name": "stderr",
     "output_type": "stream",
     "text": [
      " 39%|███▉      | 77/198 [00:25<01:02,  1.93it/s]"
     ]
    },
    {
     "name": "stdout",
     "output_type": "stream",
     "text": [
      "58941 rows at Amundsen above ± 0.51 m/yr\n",
      "4 draining and 5 filling lakes found\n"
     ]
    },
    {
     "name": "stderr",
     "output_type": "stream",
     "text": [
      " 41%|████      | 81/198 [00:25<00:38,  3.01it/s]"
     ]
    },
    {
     "name": "stdout",
     "output_type": "stream",
     "text": [
      "77517 rows at Beardmore above ± 0.48 m/yr\n",
      "2 draining and 2 filling lakes found\n"
     ]
    },
    {
     "name": "stderr",
     "output_type": "stream",
     "text": [
      " 41%|████▏     | 82/198 [00:26<00:40,  2.84it/s]"
     ]
    },
    {
     "name": "stdout",
     "output_type": "stream",
     "text": [
      "66146 rows at Nimrod above ± 0.48 m/yr\n",
      "2 draining and 0 filling lakes found\n"
     ]
    },
    {
     "name": "stderr",
     "output_type": "stream",
     "text": [
      " 43%|████▎     | 86/198 [00:27<00:31,  3.61it/s]"
     ]
    },
    {
     "name": "stdout",
     "output_type": "stream",
     "text": [
      "96005 rows at Byrd above ± 0.47 m/yr\n",
      "5 draining and 5 filling lakes found\n"
     ]
    },
    {
     "name": "stderr",
     "output_type": "stream",
     "text": [
      " 45%|████▍     | 89/198 [00:27<00:23,  4.62it/s]"
     ]
    },
    {
     "name": "stdout",
     "output_type": "stream",
     "text": [
      "26337 rows at Bindschadler above ± 0.46 m/yr\n",
      "2 draining and 1 filling lakes found\n"
     ]
    },
    {
     "name": "stderr",
     "output_type": "stream",
     "text": [
      " 46%|████▌     | 91/198 [00:28<00:24,  4.44it/s]"
     ]
    },
    {
     "name": "stdout",
     "output_type": "stream",
     "text": [
      "49745 rows at MacAyeal above ± 0.47 m/yr\n",
      "4 draining and 3 filling lakes found\n"
     ]
    },
    {
     "name": "stderr",
     "output_type": "stream",
     "text": [
      " 56%|█████▌    | 110/198 [00:29<00:07, 12.29it/s]"
     ]
    },
    {
     "name": "stdout",
     "output_type": "stream",
     "text": [
      "7570 rows at Bailey above ± 0.49 m/yr\n",
      "0 draining and 1 filling lakes found\n",
      "47112 rows at Slessor above ± 0.47 m/yr\n",
      "12 draining and 5 filling lakes found\n"
     ]
    },
    {
     "name": "stderr",
     "output_type": "stream",
     "text": [
      " 57%|█████▋    | 112/198 [00:30<00:18,  4.60it/s]"
     ]
    },
    {
     "name": "stdout",
     "output_type": "stream",
     "text": [
      "30240 rows at Support_Force above ± 0.43 m/yr\n",
      "3 draining and 2 filling lakes found\n"
     ]
    },
    {
     "name": "stderr",
     "output_type": "stream",
     "text": [
      " 58%|█████▊    | 115/198 [00:31<00:22,  3.62it/s]"
     ]
    },
    {
     "name": "stdout",
     "output_type": "stream",
     "text": [
      "96788 rows at Foundation above ± 0.43 m/yr\n",
      "2 draining and 12 filling lakes found\n"
     ]
    },
    {
     "name": "stderr",
     "output_type": "stream",
     "text": [
      " 59%|█████▉    | 117/198 [00:32<00:18,  4.45it/s]"
     ]
    },
    {
     "name": "stdout",
     "output_type": "stream",
     "text": [
      "20534 rows at Lambert above ± 0.41 m/yr\n",
      "0 draining and 1 filling lakes found\n"
     ]
    },
    {
     "name": "stderr",
     "output_type": "stream",
     "text": [
      " 61%|██████    | 120/198 [00:32<00:13,  5.57it/s]"
     ]
    },
    {
     "name": "stdout",
     "output_type": "stream",
     "text": [
      "19521 rows at Mellor above ± 0.48 m/yr\n",
      "1 draining and 1 filling lakes found\n",
      "9735 rows at Fisher above ± 0.49 m/yr\n",
      "0 draining and 1 filling lakes found\n"
     ]
    },
    {
     "name": "stderr",
     "output_type": "stream",
     "text": [
      " 67%|██████▋   | 133/198 [00:33<00:06, 10.45it/s]"
     ]
    },
    {
     "name": "stdout",
     "output_type": "stream",
     "text": [
      "9630 rows at Moller above ± 0.46 m/yr\n",
      "1 draining and 0 filling lakes found\n"
     ]
    },
    {
     "name": "stderr",
     "output_type": "stream",
     "text": [
      " 68%|██████▊   | 135/198 [00:34<00:10,  6.14it/s]"
     ]
    },
    {
     "name": "stdout",
     "output_type": "stream",
     "text": [
      "31449 rows at Institute above ± 0.47 m/yr\n",
      "7 draining and 3 filling lakes found\n"
     ]
    },
    {
     "name": "stderr",
     "output_type": "stream",
     "text": [
      " 72%|███████▏  | 142/198 [00:35<00:09,  5.61it/s]"
     ]
    },
    {
     "name": "stdout",
     "output_type": "stream",
     "text": [
      "30329 rows at Bowman_Strom_Live_Axel-Heigerg above ± 0.77 m/yr\n",
      "2 draining and 0 filling lakes found\n",
      "27320 rows at Sulzberger above ± 0.82 m/yr\n",
      "1 draining and 0 filling lakes found\n"
     ]
    },
    {
     "name": "stderr",
     "output_type": "stream",
     "text": [
      " 74%|███████▎  | 146/198 [00:36<00:16,  3.20it/s]"
     ]
    },
    {
     "name": "stdout",
     "output_type": "stream",
     "text": [
      "77210 rows at Getz above ± 1.55 m/yr\n",
      "1 draining and 0 filling lakes found\n"
     ]
    },
    {
     "name": "stderr",
     "output_type": "stream",
     "text": [
      " 82%|████████▏ | 162/198 [00:39<00:07,  4.55it/s]"
     ]
    },
    {
     "name": "stdout",
     "output_type": "stream",
     "text": [
      "64469 rows at Recovery above ± 0.43 m/yr\n",
      "4 draining and 6 filling lakes found\n"
     ]
    },
    {
     "name": "stderr",
     "output_type": "stream",
     "text": [
      "100%|██████████| 198/198 [00:42<00:00,  4.69it/s]\n"
     ]
    },
    {
     "name": "stdout",
     "output_type": "stream",
     "text": [
      "Total of 193 subglacial lakes found\n"
     ]
    }
   ],
   "source": [
    "# Subglacial lake finder\n",
    "activelakes: dict = {\n",
    "    # \"basin_name\": [],  # Antarctic drainage basin name\n",
    "    \"refgtracks\": [],  # Pipe-delimited list of ICESat-2 reference ground tracks\n",
    "    \"num_points\": [],  # Number of clustered data points\n",
    "    \"maxabsdhdt\": [],  # Maximum absolute dhdt value inside of lake boundary\n",
    "    \"inner_dhdt\": [],  # Median elev change over time (dhdt) inside of lake bounds\n",
    "    \"mean_dhdt\": [],  # Mean elev change over time (dhdt) inside of lake bounds\n",
    "    \"outer_dhdt\": [],  # Median elevation change over time (dhdt) outside of lake\n",
    "    \"outer_std\": [],  # Standard deviation of dhdt outside of lake\n",
    "    \"outer_mad\": [],  # Median absolute deviation of dhdt outside of lake\n",
    "    \"geometry\": [],  # Shapely Polygon geometry holding lake boundary coordinates\n",
    "}\n",
    "# basin_name: str = \"Cook\"  # Set a basin name here\n",
    "# basins = drainage_basins[drainage_basins.NAME == basin_name].index  # one specific basin\n",
    "# basins = drainage_basins[\n",
    "#     drainage_basins.NAME.isin((\"Cook\", \"Whillans\"))\n",
    "# ].index  # some specific basins\n",
    "# basins: pd.core.indexes.numeric.Int64Index = drainage_basins.index  # run on all basins\n",
    "\n",
    "eps: int = 3000  # ICESat-2 tracks are separated by ~3 km across track, with each laser pair ~90 m apart\n",
    "min_samples: int = 300\n",
    "for basin_index in tqdm.tqdm(iterable=[1]):\n",
    "    # Initial data cleaning, filter to rows that are in the drainage basin\n",
    "    # basin = drainage_basins.loc[basin_index]\n",
    "    X_local = X_many #.loc[X_many.drainage_basin == basin.NAME]  # .reset_index(drop=True)\n",
    "\n",
    "    # Get points with dhdt_slope higher than 3x the median dhdt_slope for the basin\n",
    "    # E.g. if median dhdt_slope is 0.30 m/yr, then we cluster points over 0.90 m/yr\n",
    "    abs_dhdt = X_local.dhdt_slope.abs()\n",
    "    tolerance: float = 3 * abs_dhdt.median()\n",
    "    X = X_local.loc[abs_dhdt > tolerance]\n",
    "\n",
    "    if len(X) <= 1000:  # don't run on too few points\n",
    "        continue\n",
    "\n",
    "    # Run unsupervised clustering separately on draining and filling lakes\n",
    "    # Draining lake points have negative labels (e.g. -1, -2, 3),\n",
    "    # Filling lake points have positive labels (e.g. 1, 2, 3),\n",
    "    # Noise points have NaN labels (i.e. NaN)\n",
    "    cluster_vars = [\"x\", \"y\", \"dhdt_slope\"]\n",
    "    draining_lake_labels = -find_clusters(\n",
    "        X=X.loc[X.dhdt_slope < 0][cluster_vars],\n",
    "        eps=eps,\n",
    "        min_samples=min_samples,\n",
    "        # verbose=cuml.common.logger.level_error,\n",
    "    )\n",
    "    filling_lake_labels = find_clusters(\n",
    "        X=X.loc[X.dhdt_slope > 0][cluster_vars],\n",
    "        eps=eps,\n",
    "        min_samples=min_samples,\n",
    "        # verbose=cuml.common.logger.level_error,\n",
    "    )\n",
    "    lake_labels = pd.concat(objs=[draining_lake_labels, filling_lake_labels])\n",
    "    lake_labels: pd.Series = lake_labels.sort_index()\n",
    "    assert lake_labels.name == \"cluster_id\"\n",
    "\n",
    "    # Checking all potential subglacial lakes in a basin\n",
    "    clusters: pd.Series = lake_labels.unique()\n",
    "    for cluster_label in clusters:\n",
    "        # Store attribute and geometry information of each active lake\n",
    "        lake_points: pd.DataFrame = X.loc[lake_labels == cluster_label]\n",
    "\n",
    "        # More data cleaning, dropping clusters with too few points\n",
    "        try:\n",
    "            assert len(lake_points) > 100\n",
    "        except AssertionError:\n",
    "            lake_labels = lake_labels.replace(to_replace=cluster_label, value=None)\n",
    "            continue\n",
    "\n",
    "        multipoint: shapely.geometry.MultiPoint = shapely.geometry.MultiPoint(\n",
    "            points=lake_points[[\"x\", \"y\"]].values  # .as_matrix()\n",
    "        )\n",
    "        convexhull: shapely.geometry.Polygon = multipoint.convex_hull\n",
    "\n",
    "        # Filter out (most) false positive subglacial lakes\n",
    "        # Check that elevation change over time in lake is anomalous to outside\n",
    "        # The 5000 m distance from lake boundary setting is empirically based on\n",
    "        # Smith et al. 2009's methodology at https://doi.org/10.3189/002214309789470879\n",
    "        outer_ring_buffer = convexhull.buffer(distance=5000) - convexhull\n",
    "        X_local[\"in_donut_ring\"] = deepicedrain.point_in_polygon_gpu(\n",
    "            points_df=X_local,\n",
    "            poly_df=gpd.GeoDataFrame({\"name\": True, \"geometry\": [outer_ring_buffer]}),\n",
    "        )\n",
    "        outer_points = X_local.dropna(subset=\"in_donut_ring\")\n",
    "        outer_dhdt: float = outer_points.dhdt_slope.median()\n",
    "\n",
    "        outer_std: float = outer_points.dhdt_slope.std()\n",
    "        outer_mad: float = scipy.stats.median_abs_deviation(\n",
    "            x=outer_points.dhdt_slope.to_pandas()\n",
    "        )\n",
    "\n",
    "        mean_dhdt: float = lake_points.dhdt_slope.mean()\n",
    "        inner_dhdt: float = lake_points.dhdt_slope.median()\n",
    "        X_local = X_local.drop(labels=\"in_donut_ring\", axis=\"columns\")\n",
    "\n",
    "        # If lake interior's median dhdt value is within 3 median absolute deviations\n",
    "        # of the lake exterior's dhdt value, we remove the lake label\n",
    "        # I.e. skip if above background change not significant enough\n",
    "        # Inspired by Kim et al. 2016's methodology at https://doi.org/10.5194/tc-10-2971-2016\n",
    "        if abs(inner_dhdt - outer_dhdt) < 3 * outer_mad:\n",
    "            lake_labels = lake_labels.replace(to_replace=cluster_label, value=None)\n",
    "            continue\n",
    "\n",
    "        maxabsdhdt: float = (\n",
    "            lake_points.dhdt_slope.max()\n",
    "            if cluster_label > 0  # positive label = filling\n",
    "            else lake_points.dhdt_slope.min()  # negative label = draining\n",
    "        )\n",
    "        refgtracks: str = \"|\".join(\n",
    "            map(str, lake_points.referencegroundtrack.unique().to_pandas())\n",
    "        )\n",
    "\n",
    "        # Save key variables to dictionary that will later go into geodataframe\n",
    "        activelakes[\"basin_name\"].append(basin.NAME)\n",
    "        activelakes[\"refgtracks\"].append(refgtracks)\n",
    "        activelakes[\"num_points\"].append(len(lake_points))\n",
    "        activelakes[\"maxabsdhdt\"].append(maxabsdhdt)\n",
    "        activelakes[\"inner_dhdt\"].append(inner_dhdt)\n",
    "        activelakes[\"mean_dhdt\"].append(mean_dhdt)\n",
    "        activelakes[\"outer_dhdt\"].append(outer_dhdt)\n",
    "        activelakes[\"outer_std\"].append(outer_std)\n",
    "        activelakes[\"outer_mad\"].append(outer_mad)\n",
    "        activelakes[\"geometry\"].append(convexhull)\n",
    "\n",
    "    # Calculate total number of lakes found for one drainage basin\n",
    "    clusters: pd.Series = lake_labels.unique()\n",
    "    n_draining, n_filling = (clusters < 0).sum(), (clusters > 0).sum()\n",
    "    if n_draining + n_filling > 0:\n",
    "        print(f\"{len(X)} rows at {basin.NAME} above ± {tolerance:.2f} m/yr\")\n",
    "        print(f\"{n_draining} draining and {n_filling} filling lakes found\")\n",
    "\n",
    "if len(activelakes[\"geometry\"]) >= 1:\n",
    "    gdf = gpd.GeoDataFrame(activelakes, crs=\"EPSG:3031\")\n",
    "    basename = \"antarctic_subglacial_lakes\"  # f\"temp_{basin_name.lower()}_lakes\"  #\n",
    "    gdf.to_file(filename=f\"{basename}_3031.geojson\", driver=\"GeoJSON\")\n",
    "    gdf.to_crs(crs={\"init\": \"epsg:4326\"}).to_file(\n",
    "        filename=f\"{basename}_4326.geojson\", driver=\"GeoJSON\"\n",
    "    )\n",
    "\n",
    "print(f\"Total of {len(gdf)} subglacial lakes found\")"
   ]
  },
  {
   "cell_type": "markdown",
   "metadata": {},
   "source": [
    "## Visualize lakes"
   ]
  },
  {
   "cell_type": "code",
   "execution_count": 9,
   "metadata": {
    "lines_to_next_cell": 2
   },
   "outputs": [],
   "source": [
    "# Concatenate XY points with labels, and move data from GPU to CPU\n",
    "X: cudf.DataFrame = cudf.concat(objs=[X, lake_labels], axis=\"columns\")\n",
    "X_ = X.to_pandas()"
   ]
  },
  {
   "cell_type": "code",
   "execution_count": null,
   "metadata": {
    "lines_to_next_cell": 2
   },
   "outputs": [],
   "source": [
    "# Plot clusters on a map in colour, noise points/outliers as small dots\n",
    "fig = pygmt.Figure()\n",
    "n_clusters_ = len(X_.cluster_id.unique()) - 1  # No. of clusters minus noise (NaN)\n",
    "sizes = (X_.cluster_id.isna()).map(arg={True: 0.01, False: 0.1})\n",
    "pygmt.makecpt(cmap=\"polar\", series=(-1, 1, 2), color_model=\"+cDrain,Fill\", reverse=True)\n",
    "fig.plot(\n",
    "    x=X_.x,\n",
    "    y=X_.y,\n",
    "    sizes=sizes,\n",
    "    style=\"cc\",\n",
    "    color=pd.cut(x=X_.cluster_id, bins=(-np.inf, 0, np.inf), labels=[-1, 1]),\n",
    "    cmap=True,\n",
    "    frame=[\n",
    "        f'WSne+t\"Estimated number of lake clusters at {basin.NAME}: {n_clusters_}\"',\n",
    "        'xafg+l\"Polar Stereographic X (m)\"',\n",
    "        'yafg+l\"Polar Stereographic Y (m)\"',\n",
    "    ],\n",
    ")\n",
    "basinx, basiny = basin.geometry.exterior.coords.xy\n",
    "fig.plot(x=basinx, y=basiny, pen=\"thinnest,-\")\n",
    "fig.colorbar(position='JMR+w2c/0.5c+m+n\"Unclassified\"', L=\"i0.5c\")\n",
    "fig.savefig(fname=f\"figures/subglacial_lake_clusters_at_{basin.NAME}.png\")\n",
    "fig.show()"
   ]
  },
  {
   "cell_type": "markdown",
   "metadata": {},
   "source": [
    "## Select a subglacial lake to examine"
   ]
  },
  {
   "cell_type": "code",
   "execution_count": 11,
   "metadata": {
    "lines_to_next_cell": 2
   },
   "outputs": [],
   "source": [
    "# Load dhdt data from Parquet file\n",
    "placename: str = \"siple_coast\"  # \"slessor_downstream\"  #  \"Recovery\"  # \"Whillans\"\n",
    "df_dhdt: cudf.DataFrame = cudf.read_parquet(\n",
    "    f\"ATLXI/df_dhdt_{placename.lower()}.parquet\"\n",
    ")"
   ]
  },
  {
   "cell_type": "code",
   "execution_count": 12,
   "metadata": {},
   "outputs": [
    {
     "name": "stdout",
     "output_type": "stream",
     "text": [
      "index                                                         0\n",
      "geometry      POLYGON ((-444731.6953220846 -545129.683759524...\n",
      "basin_name                                             Whillans\n",
      "refgtracks    74|135|196|266|327|388|577|638|769|830|1019|10...\n",
      "num_points                                                 3422\n",
      "maxabsdhdt                                             6.731061\n",
      "inner_dhdt                                             1.152791\n",
      "mean_dhdt                                              1.365484\n",
      "outer_dhdt                                             0.338404\n",
      "outer_std                                              0.151085\n",
      "outer_mad                                              0.081393\n",
      "Name: 0, dtype: object\n"
     ]
    },
    {
     "data": {
      "image/svg+xml": [
       "<svg xmlns=\"http://www.w3.org/2000/svg\" xmlns:xlink=\"http://www.w3.org/1999/xlink\" width=\"300\" height=\"300\" viewBox=\"-456630.37936665915 -545831.6143030439 18952.12467501691 17100.473795304657\" preserveAspectRatio=\"xMinYMin meet\"><g transform=\"matrix(1,0,0,-1,0,-1074562.754810783)\"><path fill-rule=\"evenodd\" fill=\"#66cc99\" stroke=\"#555555\" stroke-width=\"126.34749783344606\" opacity=\"0.6\" d=\"M -444731.6953220846,-545129.6837595248 L -445011.25885498157,-545106.2968520958 L -445376.93950812094,-545031.6591196847 L -447409.3526933879,-544382.2805507262 L -450352.5856256729,-542856.9347974786 L -451613.65405471186,-542088.3567467475 L -453168.7111508558,-541005.8354607922 L -454541.14624465484,-540030.3540272998 L -455129.4508626142,-539161.6296595022 L -455928.44882314,-537936.6574710397 L -455889.53593075665,-537286.6599730677 L -454243.5090539303,-535519.7292632827 L -453242.79123223276,-534521.465268024 L -449104.8354354054,-531478.2867125623 L -448620.22966874443,-531145.8302439799 L -443146.6610664141,-529433.0710512584 L -441727.20288979204,-529844.5068711725 L -439855.5902259358,-530889.0817186871 L -439736.6727377982,-531015.2193078512 L -439630.14850606647,-531141.0021021602 L -438656.6297759172,-534025.5166154493 L -438380.1852351614,-535865.5798414922 L -439494.1268296778,-541257.5824335428 L -441276.22981477395,-542729.7436845967 L -444731.6953220846,-545129.6837595248 z\" /></g></svg>"
      ],
      "text/plain": [
       "<shapely.geometry.polygon.Polygon at 0x7fbc201cd670>"
      ]
     },
     "execution_count": 12,
     "metadata": {},
     "output_type": "execute_result"
    }
   ],
   "source": [
    "# Choose one Antarctic active subglacial lake polygon with EPSG:3031 coordinates\n",
    "lake_name: str = \"Whillans IX\"\n",
    "lake_catalog = deepicedrain.catalog.subglacial_lakes()\n",
    "lake_ids, transect_id = (\n",
    "    pd.json_normalize(lake_catalog.metadata[\"lakedict\"])\n",
    "    .query(\"lakename == @lake_name\")[[\"ids\", \"transect\"]]\n",
    "    .iloc[0]\n",
    ")\n",
    "lake = (\n",
    "    lake_catalog.read()\n",
    "    .loc[lake_ids]\n",
    "    .dissolve(by=np.zeros(shape=len(lake_ids), dtype=\"int64\"), as_index=False)\n",
    "    .squeeze()\n",
    ")\n",
    "\n",
    "region = deepicedrain.Region.from_gdf(gdf=lake, name=lake_name)\n",
    "draining: bool = lake.inner_dhdt < 0\n",
    "\n",
    "print(lake)\n",
    "lake.geometry"
   ]
  },
  {
   "cell_type": "code",
   "execution_count": 13,
   "metadata": {
    "lines_to_next_cell": 2
   },
   "outputs": [
    {
     "name": "stderr",
     "output_type": "stream",
     "text": [
      "100%|██████████| 21/21 [00:00<00:00, 36.83it/s]\n"
     ]
    }
   ],
   "source": [
    "# Subset data to lake of interest\n",
    "placename: str = region.name.lower().replace(\" \", \"_\")\n",
    "df_lake: cudf.DataFrame = region.subset(data=df_dhdt)\n",
    "# Get all raw xyz points and one transect line dataframe\n",
    "track_dict: dict = deepicedrain.split_tracks(df=df_lake.to_pandas())\n",
    "track_points: pd.DataFrame = (\n",
    "    pd.concat(track_dict.values())\n",
    "    .groupby(by=[\"x\", \"y\"])\n",
    "    .mean()  # z value is mean h_corr over all cycles\n",
    "    .reset_index()[[\"x\", \"y\", \"h_corr\"]]\n",
    ")\n",
    "try:\n",
    "    _rgt, _pt = transect_id.split(\"_\")\n",
    "    df_transect: pd.DataFrame = (\n",
    "        track_dict[transect_id][[\"x\", \"y\", \"h_corr\", \"cycle_number\"]]\n",
    "        .groupby(by=[\"x\", \"y\"])\n",
    "        .max()  # z value is maximum h_corr over all cycles\n",
    "        .reset_index()\n",
    "    )\n",
    "except AttributeError:\n",
    "    pass\n",
    "\n",
    "# Save lake outline to OGR GMT file format\n",
    "outline_points: str = f\"figures/{placename}/{placename}.gmt\"\n",
    "if not os.path.exists(path=outline_points):\n",
    "    os.makedirs(name=f\"figures/{placename}\", exist_ok=True)\n",
    "    lake_catalog.read().loc[list(lake_ids)].to_file(\n",
    "        filename=outline_points, driver=\"OGR_GMT\"\n",
    "    )"
   ]
  },
  {
   "cell_type": "code",
   "execution_count": null,
   "metadata": {},
   "outputs": [],
   "source": []
  }
 ],
 "metadata": {
  "jupytext": {
   "encoding": "# -*- coding: utf-8 -*-",
   "formats": "ipynb,py:hydrogen"
  },
  "kernelspec": {
   "display_name": "Python 3 (ipykernel)",
   "language": "python",
   "name": "python3"
  },
  "language_info": {
   "codemirror_mode": {
    "name": "ipython",
    "version": 3
   },
   "file_extension": ".py",
   "mimetype": "text/x-python",
   "name": "python",
   "nbconvert_exporter": "python",
   "pygments_lexer": "ipython3",
   "version": "3.10.8"
  }
 },
 "nbformat": 4,
 "nbformat_minor": 4
}
