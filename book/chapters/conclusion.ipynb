{
 "cells": [
  {
   "attachments": {},
   "cell_type": "markdown",
   "metadata": {
    "tags": []
   },
   "source": [
    "# Discussion / Conclusion \n",
    "\n",
    "### Conclusion\n",
    "\n",
    "Is ML the right tool for the research?/How to identify the best ML tool for my problem? \n",
    "Can a simple model be as good as a complex one? ML model discovery \t\t\t\n",
    "Do I have enough confidence to extrapolate the results? Is the model transferable?\t\n",
    "\n",
    "### Discussion\n",
    "\n",
    "This chapter has two parts: lessons learnt and open questions. \n",
    "\n",
    "Learns learnt should summerize the new stuff we learn from this use case of AI. What new contribution does AI give to solve this problem? Is it good enough to achieve your expected goal? What part of work is unexpected before you dive in? Do you think the model can work in your production environment? etc.\n",
    "\n",
    "Open questions should focus on future possibilities like if your team wants to adopt this model, what else you should do to make it fully work? How should we better tackle the data bias problem? How should we address the generalization issue on spatial and temporal extent in practice?\n",
    "\n",
    "Please elaborate a little bit on these questions with your real thoughts, which will be very helpful for us to tell the final story to students. \n"
   ]
  }
 ],
 "metadata": {
  "kernelspec": {
   "display_name": "Python 3",
   "language": "python",
   "name": "python3"
  },
  "language_info": {
   "codemirror_mode": {
    "name": "ipython",
    "version": 3
   },
   "file_extension": ".py",
   "mimetype": "text/x-python",
   "name": "python",
   "nbconvert_exporter": "python",
   "pygments_lexer": "ipython3",
   "version": "3.9.0 (tags/v3.9.0:9cf6752, Oct  5 2020, 15:23:07) [MSC v.1927 32 bit (Intel)]"
  },
  "vscode": {
   "interpreter": {
    "hash": "c446eef832ec964573dc49f36fd16bdbed40cbfbefbf557bc2dc78d9e7968689"
   }
  }
 },
 "nbformat": 4,
 "nbformat_minor": 4
}
