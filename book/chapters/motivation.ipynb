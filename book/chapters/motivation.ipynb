{
 "cells": [
  {
   "attachments": {},
   "cell_type": "markdown",
   "metadata": {
    "tags": []
   },
   "source": [
    "# Motivation (Science or Utility)\n",
    "\n",
    "Explain the science motivation, data challenge and any existing attempts. Explain why you need ML to solve the problem as opposed to a conventional approach.\n"
   ]
  },
  {
   "attachments": {},
   "cell_type": "markdown",
   "metadata": {},
   "source": [
    "## DeepIceDrain\n",
    "\n",
    "Machine learning (ML)-powered, low-latency ICESat-2 point cloud processing\n",
    "\n",
    "### Subglacial water movement\n",
    "\n",
    "{ref}`Subglacial water <reference:glossary:subglacial water>` describes the water that exists beneath a body of ice such as a glacier or ice stream.\n",
    "The water is located primarily between the base of the ice and the surface of the underlying ground (bedrock or sediment).\n",
    "This subglacial water impacts the ice's ability to slide (have you ever walked on wet ice?) over the ground, a process called {ref}`basal slip <reference:glossary:basal slip>`.\n",
    "In turn, basal slip is a critical determinant for how fast ice can flow and affect sea level rise.\n",
    "\n",
    "### How we quantify subglacial water\n",
    "\n",
    "One way to quantify subglacial water movement is by looking at active subglacial lakes draining and filling episodically across Antarctica (Fig. 1; {cite:t}`siegfried2014`; Ch. 4 in {cite:t}`Leong2021thesis`).\n",
    "To do this, we look for changes in ice surface height at seasonal (3 month) timescales.\n",
    "\n",
    "### Data\n",
    "\n",
    "Basics of IS2?\n",
    "\n",
    "For this analysis, we will use the ATLAS/ICESat-2 ATL11 Slope-Corrected Land Ice Height Time Series product {cite:p}`ATL11.003.\n",
    "This data product provides a time series of land-ice surface heights.\n",
    "It is a spatially organized and relatively compact product with height-change information derived from ICESat-2 observations.\n",
    "\n",
    "### Challenges\n",
    "\n",
    "To examine subglacial water movement in Antarctica, the scientific community requires rapid access to analysis-ready remote sensing data that can capture dynamic changes at seasonal (3 month) timescales.\n",
    "Although the ATL11 data product meets this requirement, its size and complexity present technical challenges for the broader community of glaciologists, biogeochemists and ice-sheet modelers to use this data.\n",
    "We aim to lower the technical barrier by providing an analysis-ready, user-friendly, spatiotemporally variable map of Antarctica showing ice surface changes due to subglacial lake activity.\n",
    "Through regular, automated updates, we hope to help accelerate progress in subglacial hydrology research.\n",
    "\n",
    "\n",
    "\n",
    "TO DO:\n",
    "- add the figure to the repo and import here\n",
    "- add IS2 links (and basics?)"
   ]
  }
 ],
 "metadata": {
  "kernelspec": {
   "display_name": "Python 3",
   "language": "python",
   "name": "python3"
  },
  "language_info": {
   "codemirror_mode": {
    "name": "ipython",
    "version": 3
   },
   "file_extension": ".py",
   "mimetype": "text/x-python",
   "name": "python",
   "nbconvert_exporter": "python",
   "pygments_lexer": "ipython3",
   "version": "3.7.3 (default, Apr 24 2020, 18:51:23) \n[Clang 11.0.3 (clang-1103.0.32.62)]"
  },
  "vscode": {
   "interpreter": {
    "hash": "31f2aee4e71d21fbe5cf8b01ff0e069b9275f58929596ceb00d14d90e3e16cd6"
   }
  }
 },
 "nbformat": 4,
 "nbformat_minor": 4
}
