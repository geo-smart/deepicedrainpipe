{
 "cells": [
  {
   "cell_type": "markdown",
   "id": "7b0a267d",
   "metadata": {},
   "source": [
    "# Pre-processing ICESat-2/ATL11 Land Ice Height time-series\n",
    "\n",
    "In this tutorial, we'll step through a data pipeline on turning point cloud\n",
    "time-series data from the ICESat-2 laser alimeter into an analysis ready\n",
    "format. By the end of this lesson, you should be able to:\n",
    "\n",
    "- Access ICESat-2 data in a Hierarchical Data Format (HDF5) from the cloud\n",
    "- Construct a data pipeline that combines multiple ICESat-2 tracks and laser\n",
    "  beams into a flat data structure\n",
    "- Store the pre-processed data in a cloud-optimized, analysis ready data\n",
    "  format\n",
    "\n",
    "References:\n",
    "- https://github.com/weiji14/deepicedrain/blob/v0.4.2/atl06_to_atl11.ipynb\n",
    "- https://github.com/weiji14/deepicedrain/blob/v0.4.2/atl11_play.ipynb"
   ]
  },
  {
   "cell_type": "markdown",
   "id": "1bda1200",
   "metadata": {},
   "source": [
    "## Getting started\n",
    "\n",
    "These are the tools you’ll need."
   ]
  },
  {
   "cell_type": "code",
   "execution_count": null,
   "id": "fddb56d2",
   "metadata": {},
   "outputs": [],
   "source": [
    "import datatree\n",
    "import xarray as xr"
   ]
  },
  {
   "cell_type": "markdown",
   "id": "26ffd583",
   "metadata": {},
   "source": [
    "Just to make sure we’re on the same page,\n",
    "let’s check that we’ve got compatible versions installed."
   ]
  },
  {
   "cell_type": "code",
   "execution_count": null,
   "id": "711c7659",
   "metadata": {},
   "outputs": [],
   "source": [
    "xr.show_versions()"
   ]
  }
 ],
 "metadata": {
  "jupytext": {
   "encoding": "# -*- coding: utf-8 -*-",
   "formats": "auto:percent,ipynb"
  },
  "kernelspec": {
   "display_name": "Python 3 (ipykernel)",
   "language": "python",
   "name": "python3"
  },
  "language_info": {
   "codemirror_mode": {
    "name": "ipython",
    "version": 3
   },
   "file_extension": ".py",
   "mimetype": "text/x-python",
   "name": "python",
   "nbconvert_exporter": "python",
   "pygments_lexer": "ipython3",
   "version": "3.9.13"
  }
 },
 "nbformat": 4,
 "nbformat_minor": 5
}
